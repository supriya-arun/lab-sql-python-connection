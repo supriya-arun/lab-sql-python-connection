{
 "cells": [
  {
   "cell_type": "code",
   "execution_count": 1,
   "id": "d06016d5-e723-4faf-9a00-6dbb5b052b62",
   "metadata": {},
   "outputs": [],
   "source": [
    "import pandas as pd\n",
    "\n"
   ]
  },
  {
   "cell_type": "code",
   "execution_count": 2,
   "id": "32cd7a95-39ee-4d97-bd4c-a753682c9e5f",
   "metadata": {},
   "outputs": [],
   "source": [
    "#!pip install mysql-connector-python"
   ]
  },
  {
   "cell_type": "code",
   "execution_count": 82,
   "id": "99a9b188-72d4-4a0e-ae60-84cb5b636b40",
   "metadata": {},
   "outputs": [],
   "source": [
    "import mysql.connector\n",
    "\n",
    "from sqlalchemy import create_engine"
   ]
  },
  {
   "cell_type": "code",
   "execution_count": 84,
   "id": "e5e8cf5a-2e8a-45dc-a73d-09962ff54617",
   "metadata": {},
   "outputs": [],
   "source": [
    "from getpass import getpass"
   ]
  },
  {
   "cell_type": "code",
   "execution_count": 90,
   "id": "2e221404-6e83-4909-898b-0e5fc12a997e",
   "metadata": {},
   "outputs": [
    {
     "name": "stdin",
     "output_type": "stream",
     "text": [
      " ········\n"
     ]
    }
   ],
   "source": [
    "password = getpass.getpass()"
   ]
  },
  {
   "cell_type": "code",
   "execution_count": 92,
   "id": "868edc7f-aae2-49cf-a776-73fd046fa7e4",
   "metadata": {},
   "outputs": [],
   "source": [
    "cnx=mysql.connector.connect(user=\"root\",\n",
    "                            password=password,\n",
    "                            host=\"localhost\",\n",
    "                            database=\"sakila\")"
   ]
  },
  {
   "cell_type": "code",
   "execution_count": 94,
   "id": "fc17167e-94ef-4cc4-abb7-a91897537dad",
   "metadata": {},
   "outputs": [
    {
     "data": {
      "text/plain": [
       "True"
      ]
     },
     "execution_count": 94,
     "metadata": {},
     "output_type": "execute_result"
    }
   ],
   "source": [
    "cnx.is_connected()"
   ]
  },
  {
   "cell_type": "code",
   "execution_count": 96,
   "id": "e293d12f-3eb1-4c60-94df-824f6fc4f773",
   "metadata": {},
   "outputs": [],
   "source": [
    "cursor = cnx.cursor()"
   ]
  },
  {
   "cell_type": "code",
   "execution_count": 98,
   "id": "cb9c0ae2-002c-435c-b18c-393cabe1658e",
   "metadata": {},
   "outputs": [
    {
     "name": "stdout",
     "output_type": "stream",
     "text": [
      "May 2005 Rentals:\n",
      "   customer_id         rental_date\n",
      "0          130 2005-05-24 22:53:30\n",
      "1          459 2005-05-24 22:54:33\n",
      "2          408 2005-05-24 23:03:39\n",
      "3          333 2005-05-24 23:04:41\n",
      "4          222 2005-05-24 23:05:21\n",
      "\n",
      "Rental Counts for May 2005:\n",
      "     customer_id  rentals_05_2005\n",
      "0              1                2\n",
      "1              2                1\n",
      "2              3                2\n",
      "3              5                3\n",
      "4              6                3\n",
      "..           ...              ...\n",
      "515          594                4\n",
      "516          595                1\n",
      "517          596                6\n",
      "518          597                2\n",
      "519          599                1\n",
      "\n",
      "[520 rows x 2 columns]\n",
      "\n",
      "June 2005 Rentals:\n",
      "   customer_id         rental_date\n",
      "0          416 2005-06-14 22:53:33\n",
      "1          516 2005-06-14 22:55:13\n",
      "2          239 2005-06-14 23:00:34\n",
      "3          285 2005-06-14 23:07:08\n",
      "4          310 2005-06-14 23:09:38\n",
      "\n",
      "Rental Counts for June 2005:\n",
      "     customer_id  rentals_06_2005\n",
      "0              1                7\n",
      "1              2                1\n",
      "2              3                4\n",
      "3              4                6\n",
      "4              5                5\n",
      "..           ...              ...\n",
      "585          595                2\n",
      "586          596                2\n",
      "587          597                3\n",
      "588          598                1\n",
      "589          599                4\n",
      "\n",
      "[590 rows x 2 columns]\n",
      "\n",
      "Rental Comparison between May and June 2024:\n",
      "     customer_id  rentals_05_2005  rentals_06_2005  difference\n",
      "0              1              2.0              7.0        -5.0\n",
      "1              2              1.0              1.0         0.0\n",
      "2              3              2.0              4.0        -2.0\n",
      "3              4              NaN              6.0        -6.0\n",
      "4              5              3.0              5.0        -2.0\n",
      "..           ...              ...              ...         ...\n",
      "593          595              1.0              2.0        -1.0\n",
      "594          596              6.0              2.0         4.0\n",
      "595          597              2.0              3.0        -1.0\n",
      "596          598              NaN              1.0        -1.0\n",
      "597          599              1.0              4.0        -3.0\n",
      "\n",
      "[598 rows x 4 columns]\n",
      "Database connection closed.\n"
     ]
    },
    {
     "name": "stderr",
     "output_type": "stream",
     "text": [
      "C:\\Users\\ngaut\\AppData\\Local\\Temp\\ipykernel_3580\\1182306190.py:8: UserWarning: pandas only supports SQLAlchemy connectable (engine/connection) or database string URI or sqlite3 DBAPI2 connection. Other DBAPI2 objects are not tested. Please consider using SQLAlchemy.\n",
      "  df = pd.read_sql(query, cnx)\n",
      "C:\\Users\\ngaut\\AppData\\Local\\Temp\\ipykernel_3580\\1182306190.py:8: UserWarning: pandas only supports SQLAlchemy connectable (engine/connection) or database string URI or sqlite3 DBAPI2 connection. Other DBAPI2 objects are not tested. Please consider using SQLAlchemy.\n",
      "  df = pd.read_sql(query, cnx)\n"
     ]
    }
   ],
   "source": [
    "\n",
    "\n",
    "\n",
    "def rentals_month(cnx, month, year):\n",
    "    query = f\"\"\"\n",
    "    SELECT r.customer_id, r.rental_date\n",
    "    FROM rental r\n",
    "    WHERE MONTH(r.rental_date) = {month} AND YEAR(r.rental_date) = {year};\n",
    "    \"\"\"\n",
    "    try:\n",
    "        df = pd.read_sql(query, cnx)\n",
    "        return df\n",
    "    except Exception as e:\n",
    "        print(f\"Error retrieving rental data for {month}/{year}: {e}\")\n",
    "        return pd.DataFrame()  # Return an empty DataFrame on error\n",
    "\n",
    "def rental_count_month(df, month, year):\n",
    "    column_name = f'rentals_{month:02d}_{year}'\n",
    "    rental_counts = df.groupby('customer_id').size().reset_index(name=column_name)\n",
    "    return rental_counts\n",
    "\n",
    "def compare_rentals(df1, df2):\n",
    "    combined = pd.merge(df1, df2, on='customer_id', how='outer')\n",
    "    combined['difference'] = combined[df1.columns[1]].fillna(0) - combined[df2.columns[1]].fillna(0)\n",
    "    return combined\n",
    "\n",
    "\n",
    "rental_counts_may = pd.DataFrame()\n",
    "rental_counts_june = pd.DataFrame()\n",
    "\n",
    "\n",
    "df_may = rentals_month(cnx, 5, 2005)\n",
    "print(\"May 2005 Rentals:\")\n",
    "print(df_may.head())  # Display the first few rows\n",
    "\n",
    "\n",
    "if not df_may.empty:\n",
    "    rental_counts_may = rental_count_month(df_may, 5, 2005)\n",
    "    print(\"\\nRental Counts for May 2005:\")\n",
    "    print(rental_counts_may)\n",
    "else:\n",
    "    print(\"No data retrieved for May 2005.\")\n",
    "\n",
    "\n",
    "df_june = rentals_month(cnx, 6, 2005)\n",
    "print(\"\\nJune 2005 Rentals:\")\n",
    "print(df_june.head())  \n",
    "\n",
    "\n",
    "if not df_june.empty:\n",
    "    rental_counts_june = rental_count_month(df_june, 6, 2005)\n",
    "    print(\"\\nRental Counts for June 2005:\")\n",
    "    print(rental_counts_june)\n",
    "else:\n",
    "    print(\"No data retrieved for June 2005.\")\n",
    "\n",
    "\n",
    "if not rental_counts_may.empty and not rental_counts_june.empty:\n",
    "    rental_comparison = compare_rentals(rental_counts_may, rental_counts_june)\n",
    "    # Step 7: Display the comparison DataFrame\n",
    "    print(\"\\nRental Comparison between May and June 2024:\")\n",
    "    print(rental_comparison)\n",
    "else:\n",
    "    print(\"No data available for comparison.\")\n",
    "\n",
    "\n",
    "if cnx.is_connected():\n",
    "    cnx.close()\n",
    "    print(\"Database connection closed.\")\n"
   ]
  }
 ],
 "metadata": {
  "kernelspec": {
   "display_name": "Python 3 (ipykernel)",
   "language": "python",
   "name": "python3"
  },
  "language_info": {
   "codemirror_mode": {
    "name": "ipython",
    "version": 3
   },
   "file_extension": ".py",
   "mimetype": "text/x-python",
   "name": "python",
   "nbconvert_exporter": "python",
   "pygments_lexer": "ipython3",
   "version": "3.12.4"
  }
 },
 "nbformat": 4,
 "nbformat_minor": 5
}
